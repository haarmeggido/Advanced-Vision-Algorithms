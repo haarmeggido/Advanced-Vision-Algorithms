{
 "cells": [
  {
   "cell_type": "code",
   "execution_count": 1,
   "id": "initial_id",
   "metadata": {
    "ExecuteTime": {
     "end_time": "2024-05-17T14:02:08.269581Z",
     "start_time": "2024-05-17T14:02:07.094025Z"
    },
    "collapsed": true
   },
   "outputs": [],
   "source": [
    "import cv2\n",
    "import matplotlib.pyplot as plt\n",
    "import numpy as np"
   ]
  },
  {
   "cell_type": "code",
   "execution_count": 2,
   "id": "6a10e9ca9558a265",
   "metadata": {
    "ExecuteTime": {
     "end_time": "2024-05-17T14:02:08.308116Z",
     "start_time": "2024-05-17T14:02:08.270594Z"
    },
    "collapsed": false
   },
   "outputs": [],
   "source": [
    "%matplotlib inline\n",
    "plt.rcParams['figure.figsize'] = (10, 10)\n",
    "plt.rcParams['image.interpolation'] = 'nearest'"
   ]
  },
  {
   "cell_type": "markdown",
   "id": "1de04d7aa9cc03b6",
   "metadata": {
    "collapsed": false
   },
   "source": [
    "## Prosta analiza obrazu termowizyjnego"
   ]
  },
  {
   "cell_type": "code",
   "execution_count": 3,
   "id": "25c06060ca633924",
   "metadata": {
    "ExecuteTime": {
     "end_time": "2024-05-17T14:02:08.391947Z",
     "start_time": "2024-05-17T14:02:08.309125Z"
    },
    "collapsed": false
   },
   "outputs": [],
   "source": [
    "cap = cv2.VideoCapture('mats/vid1_IR.avi')"
   ]
  },
  {
   "cell_type": "code",
   "execution_count": 4,
   "id": "e018adef14e93901",
   "metadata": {
    "ExecuteTime": {
     "end_time": "2024-05-17T14:03:10.740471Z",
     "start_time": "2024-05-17T14:02:08.392956Z"
    },
    "collapsed": false
   },
   "outputs": [],
   "source": [
    "while cap.isOpened():\n",
    "    ret, frame = cap.read()\n",
    "    if not ret:\n",
    "        break\n",
    "    \n",
    "    G = cv2.cvtColor(frame, cv2.COLOR_BGR2GRAY)\n",
    "    cv2.imshow('IR', G)\n",
    "    if cv2.waitKey(1) & 0xFF == ord('q'):\n",
    "        break\n",
    "    \n",
    "cap.release()\n",
    "cv2.destroyAllWindows()"
   ]
  },
  {
   "cell_type": "code",
   "execution_count": 5,
   "id": "15d3a6ad0c9e9458",
   "metadata": {
    "ExecuteTime": {
     "end_time": "2024-05-17T17:14:57.688631Z",
     "start_time": "2024-05-17T17:14:51.581403Z"
    },
    "collapsed": false
   },
   "outputs": [],
   "source": [
    "def process_frame(current_frame: np.ndarray) -> np.ndarray:\n",
    "    original_image: np.ndarray = current_frame.copy()\n",
    "    \n",
    "    gray_image: np.ndarray = cv2.cvtColor(current_frame, cv2.COLOR_BGR2GRAY)\n",
    "    \n",
    "    _, threshold_image = cv2.threshold(gray_image, 45, 255, cv2.THRESH_BINARY)\n",
    "    median: np.ndarray = cv2.medianBlur(threshold_image, 7)\n",
    "    # Ta 'heurystyka', to po prostu dylatacja obrazu\n",
    "    dilated = cv2.dilate(median, np.ones((5, 5), np.uint8))\n",
    "    closed: np.ndarray = cv2.morphologyEx(dilated, cv2.MORPH_CLOSE, np.ones((7, 7), np.uint8), iterations=2)\n",
    "\n",
    "    num_labels, labels, stats, centroids = cv2.connectedComponentsWithStats(closed)\n",
    "    \n",
    "    objects_on_screen: bool = num_labels > 1\n",
    "    if objects_on_screen:\n",
    "        for object_index in range(1, num_labels):\n",
    "            x, y, w, h, area = stats[object_index]\n",
    "            \n",
    "            too_small: bool = area < 400\n",
    "            not_rectangle: bool = abs(w - h) < 30\n",
    "            if too_small or not_rectangle:\n",
    "                continue\n",
    "                \n",
    "            centroid_x, centroid_y = centroids[object_index]\n",
    "            \n",
    "            cv2.rectangle(original_image, (x, y), (x + w, y + h), (255, 0, 0), 2)\n",
    "            cv2.putText(original_image, str(object_index), (int(centroid_x), int(centroid_y)), cv2.FONT_HERSHEY_SIMPLEX, 1, (0, 255, 0), 1)\n",
    "    \n",
    "    return original_image\n",
    "\n",
    "def process_video(file: str) -> None:\n",
    "    capture = cv2.VideoCapture(file)\n",
    "\n",
    "    while capture.isOpened():\n",
    "        has_next_frame, current_frame = capture.read()\n",
    "        if not has_next_frame:\n",
    "            break\n",
    "    \n",
    "        new_image = process_frame(current_frame)\n",
    "        cv2.imshow('IR', new_image)\n",
    "        if cv2.waitKey(1) & 0xFF == ord('q'):\n",
    "            break\n",
    "\n",
    "    capture.release()\n",
    "    cv2.destroyAllWindows()\n",
    "\n",
    "process_video('mats/vid1_IR.avi')"
   ]
  },
  {
   "cell_type": "markdown",
   "id": "98b2dab96f57e1cd",
   "metadata": {
    "collapsed": false
   },
   "source": [
    "## Wykorzystanie detektora bazującego na sieci neuronowej do analizy obrazu RGB + Termowizja (YOLOv3)"
   ]
  },
  {
   "cell_type": "code",
   "execution_count": null,
   "id": "8f54f4a556b424b2",
   "metadata": {
    "ExecuteTime": {
     "end_time": "2024-05-17T09:24:41.550716Z",
     "start_time": "2024-05-17T09:24:41.548870Z"
    },
    "collapsed": false
   },
   "outputs": [],
   "source": []
  },
  {
   "cell_type": "code",
   "execution_count": null,
   "id": "e443fe11eba5ad3b",
   "metadata": {
    "ExecuteTime": {
     "end_time": "2024-05-17T09:24:41.553328Z",
     "start_time": "2024-05-17T09:24:41.550716Z"
    },
    "collapsed": false
   },
   "outputs": [],
   "source": []
  }
 ],
 "metadata": {
  "kernelspec": {
   "display_name": "Python 3",
   "language": "python",
   "name": "python3"
  },
  "language_info": {
   "codemirror_mode": {
    "name": "ipython",
    "version": 3
   },
   "file_extension": ".py",
   "mimetype": "text/x-python",
   "name": "python",
   "nbconvert_exporter": "python",
   "pygments_lexer": "ipython3",
   "version": "3.12.1"
  }
 },
 "nbformat": 4,
 "nbformat_minor": 5
}
