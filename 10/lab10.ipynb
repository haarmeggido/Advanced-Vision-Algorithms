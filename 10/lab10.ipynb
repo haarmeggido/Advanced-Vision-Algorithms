{
 "cells": [
  {
   "cell_type": "code",
   "execution_count": 1,
   "id": "initial_id",
   "metadata": {
    "ExecuteTime": {
     "end_time": "2024-05-17T14:02:08.269581Z",
     "start_time": "2024-05-17T14:02:07.094025Z"
    },
    "collapsed": true
   },
   "outputs": [],
   "source": [
    "import cv2\n",
    "import matplotlib.pyplot as plt\n",
    "import numpy as np"
   ]
  },
  {
   "cell_type": "code",
   "execution_count": 2,
   "id": "6a10e9ca9558a265",
   "metadata": {
    "ExecuteTime": {
     "end_time": "2024-05-17T14:02:08.308116Z",
     "start_time": "2024-05-17T14:02:08.270594Z"
    },
    "collapsed": false
   },
   "outputs": [],
   "source": [
    "%matplotlib inline\n",
    "plt.rcParams['figure.figsize'] = (10, 10)\n",
    "plt.rcParams['image.interpolation'] = 'nearest'"
   ]
  },
  {
   "cell_type": "code",
   "execution_count": null,
   "id": "25c06060ca633924",
   "metadata": {
    "ExecuteTime": {
     "end_time": "2024-05-17T14:02:08.391947Z",
     "start_time": "2024-05-17T14:02:08.309125Z"
    },
    "collapsed": false
   },
   "outputs": [],
   "source": []
  },
  {
   "cell_type": "code",
   "execution_count": 3,
   "id": "e018adef14e93901",
   "metadata": {
    "ExecuteTime": {
     "end_time": "2024-05-17T14:03:10.740471Z",
     "start_time": "2024-05-17T14:02:08.392956Z"
    },
    "collapsed": false
   },
   "outputs": [],
   "source": [
    "cap = cv2.VideoCapture('mats/vid1_IR.avi')\n",
    "while cap.isOpened():\n",
    "    ret, frame = cap.read()\n",
    "    if not ret:\n",
    "        break\n",
    "    \n",
    "    G = cv2.cvtColor(frame, cv2.COLOR_BGR2GRAY)\n",
    "    \n",
    "    cv2.imshow('IR', G)\n",
    "    if cv2.waitKey(1) & 0xFF == ord('q'):\n",
    "        break\n",
    "    \n",
    "cap.release()\n",
    "cv2.destroyAllWindows()"
   ]
  },
  {
   "cell_type": "code",
   "execution_count": 15,
   "id": "15d3a6ad0c9e9458",
   "metadata": {
    "ExecuteTime": {
     "end_time": "2024-05-17T17:14:57.688631Z",
     "start_time": "2024-05-17T17:14:51.581403Z"
    },
    "collapsed": false
   },
   "outputs": [],
   "source": [
    "def process_frame(current_frame: np.ndarray) -> np.ndarray:\n",
    "    original_image: np.ndarray = current_frame.copy()\n",
    "    \n",
    "    gray_image: np.ndarray = cv2.cvtColor(current_frame, cv2.COLOR_BGR2GRAY)\n",
    "    \n",
    "    _, threshold_image = cv2.threshold(gray_image, 45, 255, cv2.THRESH_BINARY)\n",
    "    median: np.ndarray = cv2.medianBlur(threshold_image, 7)\n",
    "    # rozmycie medianowe\n",
    "    dilated = cv2.dilate(median, np.ones((5, 5), np.uint8))\n",
    "    closed: np.ndarray = cv2.morphologyEx(dilated, cv2.MORPH_CLOSE, np.ones((7, 7), np.uint8), iterations=2)\n",
    "    \n",
    "\n",
    "    num_labels, labels, stats, centroids = cv2.connectedComponentsWithStats(closed)\n",
    "\n",
    "\n",
    "\n",
    "    objects_on_screen = num_labels > 1\n",
    "    if objects_on_screen:\n",
    "        skipped_objects = 0\n",
    "        for object_index in range(1, num_labels):\n",
    "            # disregard objects with height less than 200, width less than 200, or area less than 400\n",
    "            x, y, w, h, area = stats[object_index]\n",
    "            \n",
    "            too_small: bool = area < 400\n",
    "            not_rectangle: bool = abs(w - h) < 50\n",
    "            too_narrow: bool = h < 100\n",
    "            if too_small or not_rectangle or too_narrow:\n",
    "                skipped_objects += 1\n",
    "                continue\n",
    "                \n",
    "            centroid_x, centroid_y = centroids[object_index]\n",
    "            \n",
    "            cv2.rectangle(original_image, (x, y), (x + w, y + h), (255, 0, 0), 2)\n",
    "            cv2.putText(original_image, str(object_index - skipped_objects), (int(centroid_x), int(centroid_y)), cv2.FONT_HERSHEY_SIMPLEX, 1, (0, 255, 0), 1)\n",
    "    \n",
    "    return original_image\n",
    "\n",
    "def process_video(file: str, save = False) -> None:\n",
    "    capture = cv2.VideoCapture(file)\n",
    "    if save:\n",
    "        frames = []\n",
    "    while capture.isOpened():\n",
    "        has_next_frame, current_frame = capture.read()\n",
    "        if not has_next_frame:\n",
    "            break\n",
    "    \n",
    "        new_image = process_frame(current_frame)\n",
    "        if save:\n",
    "            frames.append(new_image)\n",
    "        cv2.imshow('IR', new_image)\n",
    "        if cv2.waitKey(1) & 0xFF == ord('q'):\n",
    "            break\n",
    "\n",
    "    if save:\n",
    "        # Save the video\n",
    "        print('Saving video...')\n",
    "        height, width, layers = frames[0].shape\n",
    "        size = (width, height)\n",
    "        out = cv2.VideoWriter('output2.avi', cv2.VideoWriter_fourcc(*'DIVX'), 15, size)\n",
    "        for i in range(len(frames)):\n",
    "            out.write(frames[i])\n",
    "        out.release()\n",
    "        print('Video saved')\n",
    "        \n",
    "    capture.release()\n",
    "    cv2.destroyAllWindows()\n",
    "\n",
    "process_video('mats/vid1_IR.avi', save = True)\n",
    "\n",
    "ciocia gada moment\n",
    "\n"
   ]
  }
 ],
 "metadata": {
  "kernelspec": {
   "display_name": "Python 3",
   "language": "python",
   "name": "python3"
  },
  "language_info": {
   "codemirror_mode": {
    "name": "ipython",
    "version": 3
   },
   "file_extension": ".py",
   "mimetype": "text/x-python",
   "name": "python",
   "nbconvert_exporter": "python",
   "pygments_lexer": "ipython3",
   "version": "3.12.1"
  }
 },
 "nbformat": 4,
 "nbformat_minor": 5
}
