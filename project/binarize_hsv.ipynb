{
 "cells": [
  {
   "cell_type": "code",
   "execution_count": 12,
   "metadata": {},
   "outputs": [],
   "source": [
    "import cv2\n",
    "import numpy as np\n",
    "\n"
   ]
  },
  {
   "cell_type": "code",
   "execution_count": 13,
   "metadata": {},
   "outputs": [
    {
     "data": {
      "text/plain": [
       "True"
      ]
     },
     "execution_count": 13,
     "metadata": {},
     "output_type": "execute_result"
    }
   ],
   "source": [
    "# size down the rainbow image\n",
    "img = cv2.imread(\"mats/rainbow.jpg\")\n",
    "\n",
    "rainow_resized = cv2.resize(img, (500, 500))\n",
    "\n",
    "# save the image\n",
    "\n",
    "cv2.imwrite(\"mats/rainbow_resized.jpg\", rainow_resized)"
   ]
  },
  {
   "cell_type": "code",
   "execution_count": 14,
   "metadata": {},
   "outputs": [],
   "source": [
    "def empty(a):\n",
    "    pass\n",
    "\n",
    "# read image and initialize the loop\n",
    "def binarize_hsv(image_path: str) -> np.ndarray:\n",
    "    # read image\n",
    "    img = cv2.imread(image_path)\n",
    "    imgHSV = cv2.cvtColor(img, cv2.COLOR_BGR2HSV)\n",
    "\n",
    "    # create trackbars\n",
    "    cv2.namedWindow(\"TrackBars\")\n",
    "    cv2.resizeWindow(\"TrackBars\", 600, 230)\n",
    "    cv2.createTrackbar(\"Hue Min\", \"TrackBars\", 0, 179, empty)\n",
    "    cv2.createTrackbar(\"Hue Max\", \"TrackBars\", 19, 179, empty)\n",
    "    cv2.createTrackbar(\"Sat Min\", \"TrackBars\", 110, 255, empty)\n",
    "    cv2.createTrackbar(\"Sat Max\", \"TrackBars\", 255, 255, empty)\n",
    "    cv2.createTrackbar(\"Val Min\", \"TrackBars\", 153, 255, empty)\n",
    "    cv2.createTrackbar(\"Val Max\", \"TrackBars\", 255, 255, empty)\n",
    "    while True:\n",
    "        h_min = cv2.getTrackbarPos(\"Hue Min\", \"TrackBars\")\n",
    "        h_max = cv2.getTrackbarPos(\"Hue Max\", \"TrackBars\")\n",
    "        s_min = cv2.getTrackbarPos(\"Sat Min\", \"TrackBars\")\n",
    "        s_max = cv2.getTrackbarPos(\"Sat Max\", \"TrackBars\")\n",
    "        v_min = cv2.getTrackbarPos(\"Val Min\", \"TrackBars\")\n",
    "        v_max = cv2.getTrackbarPos(\"Val Max\", \"TrackBars\")\n",
    "        \n",
    "        lower = np.array([h_min, s_min, v_min])\n",
    "        upper = np.array([h_max, s_max, v_max])\n",
    "\n",
    "        mask = cv2.inRange(imgHSV, lower, upper)\n",
    "\n",
    "        imgResult = cv2.bitwise_and(img, img, mask=mask)\n",
    "\n",
    "        print(h_min, h_max, s_min, s_max, v_min, v_max)\n",
    "\n",
    "        img = cv2.resize(img, (0, 0), fx=0.4, fy=0.4)\n",
    "        imgHSV = cv2.resize(imgHSV, (0, 0), fx=0.4, fy=0.4)\n",
    "        mask = cv2.resize(mask, (0, 0), fx=0.4, fy=0.4)\n",
    "        imgResult = cv2.resize(imgResult, (0, 0), fx=0.4, fy=0.4)\n",
    "\n",
    "        concat = np.concatenate((img, imgResult), axis=1)\n",
    "\n",
    "        cv2.imshow(\"Original\", img)\n",
    "        cv2.imshow(\"HSV\", imgHSV)\n",
    "        cv2.imshow(\"Mask\", mask)\n",
    "        cv2.imshow(\"Result\", imgResult)\n",
    "        cv2.imshow(\"Concat\", concat)\n",
    "        cv2.waitKey(10)\n",
    "\n",
    "        # exit on 'q'\n",
    "        if cv2.waitKey(1) & 0xFF == ord('q'):\n",
    "            break\n",
    "        \n",
    "    cv2.destroyAllWindows()"
   ]
  },
  {
   "cell_type": "code",
   "execution_count": 15,
   "metadata": {},
   "outputs": [
    {
     "ename": "error",
     "evalue": "OpenCV(4.9.0) D:\\a\\opencv-python\\opencv-python\\opencv\\modules\\imgproc\\src\\color.cpp:196: error: (-215:Assertion failed) !_src.empty() in function 'cv::cvtColor'\n",
     "output_type": "error",
     "traceback": [
      "\u001b[1;31m---------------------------------------------------------------------------\u001b[0m",
      "\u001b[1;31merror\u001b[0m                                     Traceback (most recent call last)",
      "Cell \u001b[1;32mIn[15], line 1\u001b[0m\n\u001b[1;32m----> 1\u001b[0m \u001b[43mbinarize_hsv\u001b[49m\u001b[43m(\u001b[49m\u001b[38;5;124;43m\"\u001b[39;49m\u001b[38;5;124;43mproject/mats/rainbow_resized.jpg\u001b[39;49m\u001b[38;5;124;43m\"\u001b[39;49m\u001b[43m)\u001b[49m\n",
      "Cell \u001b[1;32mIn[14], line 8\u001b[0m, in \u001b[0;36mbinarize_hsv\u001b[1;34m(image_path)\u001b[0m\n\u001b[0;32m      5\u001b[0m \u001b[38;5;28;01mdef\u001b[39;00m \u001b[38;5;21mbinarize_hsv\u001b[39m(image_path: \u001b[38;5;28mstr\u001b[39m) \u001b[38;5;241m-\u001b[39m\u001b[38;5;241m>\u001b[39m np\u001b[38;5;241m.\u001b[39mndarray:\n\u001b[0;32m      6\u001b[0m     \u001b[38;5;66;03m# read image\u001b[39;00m\n\u001b[0;32m      7\u001b[0m     img \u001b[38;5;241m=\u001b[39m cv2\u001b[38;5;241m.\u001b[39mimread(image_path)\n\u001b[1;32m----> 8\u001b[0m     imgHSV \u001b[38;5;241m=\u001b[39m \u001b[43mcv2\u001b[49m\u001b[38;5;241;43m.\u001b[39;49m\u001b[43mcvtColor\u001b[49m\u001b[43m(\u001b[49m\u001b[43mimg\u001b[49m\u001b[43m,\u001b[49m\u001b[43m \u001b[49m\u001b[43mcv2\u001b[49m\u001b[38;5;241;43m.\u001b[39;49m\u001b[43mCOLOR_BGR2HSV\u001b[49m\u001b[43m)\u001b[49m\n\u001b[0;32m     10\u001b[0m     \u001b[38;5;66;03m# create trackbars\u001b[39;00m\n\u001b[0;32m     11\u001b[0m     cv2\u001b[38;5;241m.\u001b[39mnamedWindow(\u001b[38;5;124m\"\u001b[39m\u001b[38;5;124mTrackBars\u001b[39m\u001b[38;5;124m\"\u001b[39m)\n",
      "\u001b[1;31merror\u001b[0m: OpenCV(4.9.0) D:\\a\\opencv-python\\opencv-python\\opencv\\modules\\imgproc\\src\\color.cpp:196: error: (-215:Assertion failed) !_src.empty() in function 'cv::cvtColor'\n"
     ]
    }
   ],
   "source": [
    "binarize_hsv(\"project/mats/rainbow_resized.jpg\")"
   ]
  },
  {
   "cell_type": "code",
   "execution_count": 16,
   "metadata": {},
   "outputs": [
    {
     "name": "stdout",
     "output_type": "stream",
     "text": [
      "0 19 110 255 153 255\n",
      "0 19 110 255 153 255\n",
      "0 19 110 255 153 255\n",
      "0 19 110 255 153 255\n",
      "0 19 110 255 153 255\n",
      "0 19 110 255 153 255\n",
      "0 19 110 255 153 255\n",
      "0 19 110 255 153 255\n"
     ]
    },
    {
     "ename": "error",
     "evalue": "OpenCV(4.9.0) D:\\a\\opencv-python\\opencv-python\\opencv\\modules\\imgproc\\src\\resize.cpp:4158: error: (-215:Assertion failed) !dsize.empty() in function 'cv::resize'\n",
     "output_type": "error",
     "traceback": [
      "\u001b[1;31m---------------------------------------------------------------------------\u001b[0m",
      "\u001b[1;31merror\u001b[0m                                     Traceback (most recent call last)",
      "Cell \u001b[1;32mIn[16], line 30\u001b[0m\n\u001b[0;32m     26\u001b[0m imgResult \u001b[38;5;241m=\u001b[39m cv2\u001b[38;5;241m.\u001b[39mbitwise_and(img, img, mask\u001b[38;5;241m=\u001b[39mmask)\n\u001b[0;32m     28\u001b[0m \u001b[38;5;28mprint\u001b[39m(h_min, h_max, s_min, s_max, v_min, v_max)\n\u001b[1;32m---> 30\u001b[0m img \u001b[38;5;241m=\u001b[39m \u001b[43mcv2\u001b[49m\u001b[38;5;241;43m.\u001b[39;49m\u001b[43mresize\u001b[49m\u001b[43m(\u001b[49m\u001b[43mimg\u001b[49m\u001b[43m,\u001b[49m\u001b[43m \u001b[49m\u001b[43m(\u001b[49m\u001b[38;5;241;43m0\u001b[39;49m\u001b[43m,\u001b[49m\u001b[43m \u001b[49m\u001b[38;5;241;43m0\u001b[39;49m\u001b[43m)\u001b[49m\u001b[43m,\u001b[49m\u001b[43m \u001b[49m\u001b[43mfx\u001b[49m\u001b[38;5;241;43m=\u001b[39;49m\u001b[38;5;241;43m0.4\u001b[39;49m\u001b[43m,\u001b[49m\u001b[43m \u001b[49m\u001b[43mfy\u001b[49m\u001b[38;5;241;43m=\u001b[39;49m\u001b[38;5;241;43m0.4\u001b[39;49m\u001b[43m)\u001b[49m\n\u001b[0;32m     31\u001b[0m imgHSV \u001b[38;5;241m=\u001b[39m cv2\u001b[38;5;241m.\u001b[39mresize(imgHSV, (\u001b[38;5;241m0\u001b[39m, \u001b[38;5;241m0\u001b[39m), fx\u001b[38;5;241m=\u001b[39m\u001b[38;5;241m0.4\u001b[39m, fy\u001b[38;5;241m=\u001b[39m\u001b[38;5;241m0.4\u001b[39m)\n\u001b[0;32m     32\u001b[0m mask \u001b[38;5;241m=\u001b[39m cv2\u001b[38;5;241m.\u001b[39mresize(mask, (\u001b[38;5;241m0\u001b[39m, \u001b[38;5;241m0\u001b[39m), fx\u001b[38;5;241m=\u001b[39m\u001b[38;5;241m0.4\u001b[39m, fy\u001b[38;5;241m=\u001b[39m\u001b[38;5;241m0.4\u001b[39m)\n",
      "\u001b[1;31merror\u001b[0m: OpenCV(4.9.0) D:\\a\\opencv-python\\opencv-python\\opencv\\modules\\imgproc\\src\\resize.cpp:4158: error: (-215:Assertion failed) !dsize.empty() in function 'cv::resize'\n"
     ]
    },
    {
     "ename": "",
     "evalue": "",
     "output_type": "error",
     "traceback": [
      "\u001b[1;31mThe Kernel crashed while executing code in the current cell or a previous cell. \n",
      "\u001b[1;31mPlease review the code in the cell(s) to identify a possible cause of the failure. \n",
      "\u001b[1;31mClick <a href='https://aka.ms/vscodeJupyterKernelCrash'>here</a> for more info. \n",
      "\u001b[1;31mView Jupyter <a href='command:jupyter.viewOutput'>log</a> for further details."
     ]
    }
   ],
   "source": [
    "img = cv2.imread(\"mats/rainbow_resized.jpg\")\n",
    "imgHSV = cv2.cvtColor(img, cv2.COLOR_BGR2HSV)\n",
    "\n",
    "# create trackbars\n",
    "cv2.namedWindow(\"TrackBars\")\n",
    "cv2.resizeWindow(\"TrackBars\", 600, 230)\n",
    "cv2.createTrackbar(\"Hue Min\", \"TrackBars\", 0, 179, empty)\n",
    "cv2.createTrackbar(\"Hue Max\", \"TrackBars\", 19, 179, empty)\n",
    "cv2.createTrackbar(\"Sat Min\", \"TrackBars\", 110, 255, empty)\n",
    "cv2.createTrackbar(\"Sat Max\", \"TrackBars\", 255, 255, empty)\n",
    "cv2.createTrackbar(\"Val Min\", \"TrackBars\", 153, 255, empty)\n",
    "cv2.createTrackbar(\"Val Max\", \"TrackBars\", 255, 255, empty)\n",
    "while True:\n",
    "    h_min = cv2.getTrackbarPos(\"Hue Min\", \"TrackBars\")\n",
    "    h_max = cv2.getTrackbarPos(\"Hue Max\", \"TrackBars\")\n",
    "    s_min = cv2.getTrackbarPos(\"Sat Min\", \"TrackBars\")\n",
    "    s_max = cv2.getTrackbarPos(\"Sat Max\", \"TrackBars\")\n",
    "    v_min = cv2.getTrackbarPos(\"Val Min\", \"TrackBars\")\n",
    "    v_max = cv2.getTrackbarPos(\"Val Max\", \"TrackBars\")\n",
    "    \n",
    "    lower = np.array([h_min, s_min, v_min])\n",
    "    upper = np.array([h_max, s_max, v_max])\n",
    "\n",
    "    mask = cv2.inRange(imgHSV, lower, upper)\n",
    "\n",
    "    imgResult = cv2.bitwise_and(img, img, mask=mask)\n",
    "\n",
    "    print(h_min, h_max, s_min, s_max, v_min, v_max)\n",
    "\n",
    "    img = cv2.resize(img, (0, 0), fx=0.4, fy=0.4)\n",
    "    imgHSV = cv2.resize(imgHSV, (0, 0), fx=0.4, fy=0.4)\n",
    "    mask = cv2.resize(mask, (0, 0), fx=0.4, fy=0.4)\n",
    "    imgResult = cv2.resize(imgResult, (0, 0), fx=0.4, fy=0.4)\n",
    "\n",
    "    concat = np.concatenate((img, imgResult), axis=1)\n",
    "\n",
    "    cv2.imshow(\"Original\", img)\n",
    "    cv2.imshow(\"HSV\", imgHSV)\n",
    "    cv2.imshow(\"Mask\", mask)\n",
    "    cv2.imshow(\"Result\", imgResult)\n",
    "    cv2.imshow(\"Concat\", concat)\n",
    "    cv2.waitKey(10)\n",
    "\n",
    "    # exit on 'q'\n",
    "    if cv2.waitKey(1) & 0xFF == ord('q'):\n",
    "        break\n",
    "    \n",
    "cv2.destroyAllWindows()"
   ]
  }
 ],
 "metadata": {
  "kernelspec": {
   "display_name": "Python 3",
   "language": "python",
   "name": "python3"
  },
  "language_info": {
   "codemirror_mode": {
    "name": "ipython",
    "version": 3
   },
   "file_extension": ".py",
   "mimetype": "text/x-python",
   "name": "python",
   "nbconvert_exporter": "python",
   "pygments_lexer": "ipython3",
   "version": "3.12.1"
  }
 },
 "nbformat": 4,
 "nbformat_minor": 2
}
