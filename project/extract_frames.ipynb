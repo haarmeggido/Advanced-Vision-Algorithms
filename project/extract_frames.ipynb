{
 "cells": [
  {
   "cell_type": "code",
   "execution_count": 1,
   "metadata": {},
   "outputs": [],
   "source": [
    "import cv2\n",
    "import numpy as np\n",
    "import matplotlib.pyplot as plt\n",
    "import matplotlib.patches as patches"
   ]
  },
  {
   "cell_type": "code",
   "execution_count": 8,
   "metadata": {},
   "outputs": [
    {
     "name": "stdout",
     "output_type": "stream",
     "text": [
      "FPS:  25.0\n",
      "Frame count:  5189\n",
      "Frame width:  640\n",
      "Frame height:  480\n"
     ]
    }
   ],
   "source": [
    "vid_path = \"mats/video_2.mp4\"\n",
    "\n",
    "# check if video is loaded\n",
    "cap = cv2.VideoCapture(vid_path)\n",
    "if not cap.isOpened():\n",
    "    print(\"Error: Video not loaded\")\n",
    "    exit()\n",
    "\n",
    "# get video properties\n",
    "fps = cap.get(cv2.CAP_PROP_FPS)\n",
    "frame_count = int(cap.get(cv2.CAP_PROP_FRAME_COUNT))\n",
    "frame_width = int(cap.get(cv2.CAP_PROP_FRAME_WIDTH))\n",
    "frame_height = int(cap.get(cv2.CAP_PROP_FRAME_HEIGHT))\n",
    "\n",
    "# read first frame\n",
    "ret, frame = cap.read()\n",
    "if not ret:\n",
    "    print(\"Error: Frame not read\")\n",
    "    exit()\n",
    "\n",
    "#print info\n",
    "\n",
    "print(\"FPS: \", fps)\n",
    "print(\"Frame count: \", frame_count)\n",
    "print(\"Frame width: \", frame_width)\n",
    "print(\"Frame height: \", frame_height)\n"
   ]
  },
  {
   "cell_type": "code",
   "execution_count": 9,
   "metadata": {},
   "outputs": [
    {
     "name": "stdout",
     "output_type": "stream",
     "text": [
      "Frames saved:  5189\n"
     ]
    }
   ],
   "source": [
    "#save every frame to a folder mats/frames/%5d.jpg\n",
    "\n",
    "frame_count = 0\n",
    "\n",
    "if not cv2.os.path.exists(\"mats/frames\"):\n",
    "    cv2.os.makedirs(\"mats/frames\")\n",
    "    \n",
    "while ret:\n",
    "    cv2.imwrite(\"mats/frames/%05d.jpg\" % frame_count, frame)\n",
    "    ret, frame = cap.read()\n",
    "    frame_count += 1\n",
    "\n",
    "cap.release()\n",
    "print(\"Frames saved: \", frame_count)"
   ]
  }
 ],
 "metadata": {
  "kernelspec": {
   "display_name": "Python 3",
   "language": "python",
   "name": "python3"
  },
  "language_info": {
   "codemirror_mode": {
    "name": "ipython",
    "version": 3
   },
   "file_extension": ".py",
   "mimetype": "text/x-python",
   "name": "python",
   "nbconvert_exporter": "python",
   "pygments_lexer": "ipython3",
   "version": "3.12.1"
  }
 },
 "nbformat": 4,
 "nbformat_minor": 2
}
