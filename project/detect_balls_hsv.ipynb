{
 "cells": [
  {
   "cell_type": "code",
   "id": "initial_id",
   "metadata": {
    "collapsed": true,
    "ExecuteTime": {
     "end_time": "2024-06-11T13:15:05.096785Z",
     "start_time": "2024-06-11T13:15:05.093246Z"
    }
   },
   "source": [
    "import cv2\n",
    "import matplotlib.pyplot as plt\n",
    "import numpy as np"
   ],
   "outputs": [],
   "execution_count": 6
  },
  {
   "cell_type": "code",
   "id": "38418883cdd0f5eb",
   "metadata": {
    "ExecuteTime": {
     "end_time": "2024-06-11T13:15:05.462211Z",
     "start_time": "2024-06-11T13:15:05.457801Z"
    }
   },
   "source": [
    "%matplotlib inline\n",
    "plt.rcParams['figure.figsize'] = (10, 10)\n",
    "plt.rcParams['image.interpolation'] = 'nearest'"
   ],
   "outputs": [],
   "execution_count": 7
  },
  {
   "cell_type": "markdown",
   "id": "e1d66ba98708d542",
   "metadata": {},
   "source": [
    "# Wykrycie kuli (ang. balls)"
   ]
  },
  {
   "cell_type": "code",
   "id": "f12c68139a1422a3",
   "metadata": {
    "ExecuteTime": {
     "end_time": "2024-06-11T13:15:06.349552Z",
     "start_time": "2024-06-11T13:15:06.343149Z"
    }
   },
   "source": [
    "def process_frame(current_frame: np.ndarray, lower_range:np.ndarray = None, upper_range:np.ndarray = None) -> np.ndarray:\n",
    "    \"\"\"Process single frame and return new frame with detected objects.\"\"\"\n",
    "\n",
    "    height, width, _ = current_frame.shape\n",
    "    original_image: np.ndarray = current_frame.copy()\n",
    "    \n",
    "    hsv_image = cv2.cvtColor(original_image, cv2.COLOR_BGR2HSV)\n",
    "    \n",
    "    if lower_range is None:\n",
    "        lower_range = np.array([0, 90, 160])\n",
    "        \n",
    "    if upper_range is None:\n",
    "        upper_range = np.array([30, 255, 255])\n",
    "\n",
    "    binary_image = cv2.inRange(hsv_image, lower_range, upper_range)\n",
    "    blurred = cv2.GaussianBlur(binary_image, (3, 3), 0)\n",
    "    opened_image = cv2.morphologyEx(blurred, cv2.MORPH_OPEN, np.ones((5, 5), np.uint8))\n",
    "\n",
    "    # Add a black rectangle to the upper right quarter of the image opened_image\n",
    "    # opened_image[0: height // 2,\n",
    "    #              width // 2: width] = 0\n",
    "\n",
    "    # Find contours and add rectangles to the original image\n",
    "\n",
    "    num_labels, labels, stats, centroids = cv2.connectedComponentsWithStats(opened_image)\n",
    "    \n",
    "    for i in range(1, num_labels):\n",
    "        areas = stats[:, -1]  # Get the areas of all labels\n",
    "        top_labels = np.argsort(areas)[::-1][1:7]  # Get the indices of the top 5 labels with the largest areas\n",
    "\n",
    "        for i in top_labels:\n",
    "            x, y, w, h, area = stats[i]\n",
    "            if 3 < area < 100:\n",
    "                cv2.rectangle(original_image, (x, y), (x + w, y + h), (0, 255, 0), 2)\n",
    "                cv2.putText(original_image, f'{area}', (x, y), cv2.FONT_HERSHEY_SIMPLEX, 1, (0, 255, 0), 2)\n",
    "\n",
    "    return original_image\n",
    "\n",
    "\n",
    "def process_video(file: str, lower = None, upper = None) -> None:\n",
    "    \"\"\"Process video file and display it with detected objects.\"\"\"\n",
    "    capture = cv2.VideoCapture(file)\n",
    "\n",
    "    while capture.isOpened():\n",
    "        has_next_frame, current_frame = capture.read()\n",
    "        if not has_next_frame:\n",
    "            break\n",
    "\n",
    "        new_image = process_frame(current_frame, lower, upper)\n",
    "        cv2.imshow('Processed video', new_image)\n",
    "        if cv2.waitKey(5) & 0xFF == ord('q'):\n",
    "            break\n",
    "\n",
    "    capture.release()\n",
    "    cv2.destroyAllWindows()\n",
    "\n"
   ],
   "outputs": [],
   "execution_count": 8
  },
  {
   "cell_type": "code",
   "id": "102335d2",
   "metadata": {
    "ExecuteTime": {
     "end_time": "2024-06-11T13:15:06.775121Z",
     "start_time": "2024-06-11T13:15:06.770575Z"
    }
   },
   "source": [
    "yellow_lower = np.array([0, 90, 160])\n",
    "yellow_upper = np.array([30, 255, 255])\n",
    "\n",
    "red_lower = np.array([175, 86, 0])\n",
    "red_upper = np.array([179, 255, 255])"
   ],
   "outputs": [],
   "execution_count": 9
  },
  {
   "cell_type": "code",
   "id": "8a0271f4",
   "metadata": {
    "ExecuteTime": {
     "end_time": "2024-06-11T13:16:27.596722Z",
     "start_time": "2024-06-11T13:15:07.100724Z"
    }
   },
   "source": "process_video('mats/video_2.mp4', red_lower, red_upper)",
   "outputs": [],
   "execution_count": 10
  },
  {
   "metadata": {},
   "cell_type": "code",
   "source": "",
   "id": "1d7623380ecaba9d",
   "outputs": [],
   "execution_count": null
  }
 ],
 "metadata": {
  "kernelspec": {
   "display_name": "ZAW",
   "language": "python",
   "name": "zaw"
  },
  "language_info": {
   "codemirror_mode": {
    "name": "ipython",
    "version": 3
   },
   "file_extension": ".py",
   "mimetype": "text/x-python",
   "name": "python",
   "nbconvert_exporter": "python",
   "pygments_lexer": "ipython3",
   "version": "3.12.1"
  }
 },
 "nbformat": 4,
 "nbformat_minor": 5
}
