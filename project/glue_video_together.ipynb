{
 "cells": [
  {
   "cell_type": "code",
   "execution_count": 2,
   "metadata": {},
   "outputs": [
    {
     "name": "stdout",
     "output_type": "stream",
     "text": [
      "Video saved as mats/processed.mp4\n"
     ]
    }
   ],
   "source": [
    "# get all files in the directory mats/processed\n",
    "\n",
    "import os\n",
    "import cv2\n",
    "import numpy as np\n",
    "import matplotlib.pyplot as plt\n",
    "\n",
    "# get all files in the directory mats/processed\n",
    "files = os.listdir('mats/processed')\n",
    "files = sorted(files)\n",
    "\n",
    "#glue them into a mp4 video with 25 fps\n",
    "fourcc = cv2.VideoWriter_fourcc(*'mp4v')\n",
    "video = cv2.VideoWriter('mats/processed.mp4', fourcc, 25, (640, 480))\n",
    "for file in files:\n",
    "    img = cv2.imread('mats/processed/' + file)\n",
    "    video.write(img)\n",
    "video.release()\n",
    "print('Video saved as mats/processed.mp4')\n"
   ]
  }
 ],
 "metadata": {
  "kernelspec": {
   "display_name": "Python 3",
   "language": "python",
   "name": "python3"
  },
  "language_info": {
   "codemirror_mode": {
    "name": "ipython",
    "version": 3
   },
   "file_extension": ".py",
   "mimetype": "text/x-python",
   "name": "python",
   "nbconvert_exporter": "python",
   "pygments_lexer": "ipython3",
   "version": "3.12.1"
  }
 },
 "nbformat": 4,
 "nbformat_minor": 2
}
