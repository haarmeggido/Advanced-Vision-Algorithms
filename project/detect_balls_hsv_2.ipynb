{
 "cells": [
  {
   "cell_type": "code",
   "execution_count": 14,
   "id": "initial_id",
   "metadata": {
    "collapsed": true
   },
   "outputs": [],
   "source": [
    "import cv2\n",
    "import matplotlib.pyplot as plt\n",
    "import numpy as np"
   ]
  },
  {
   "cell_type": "code",
   "execution_count": 15,
   "id": "810c88de971a49c8",
   "metadata": {},
   "outputs": [],
   "source": [
    "%matplotlib inline\n",
    "plt.rcParams['figure.figsize'] = (10, 10)\n",
    "plt.rcParams['image.interpolation'] = 'nearest'"
   ]
  },
  {
   "cell_type": "code",
   "execution_count": 16,
   "id": "f35e4d69",
   "metadata": {},
   "outputs": [],
   "source": [
    "\n",
    "def process_red(frame: np.ndarray, lower:np.ndarray = None, upper:np.ndarray = None) -> list:\n",
    "    \"\"\"Process single frame and return new frame with detected red objects.\"\"\"\n",
    "    frameHSV = cv2.cvtColor(frame, cv2.COLOR_BGR2HSV)\n",
    "    mask = cv2.inRange(frameHSV, lower, upper)\n",
    "    frameResult = cv2.bitwise_and(frame, frame, mask=mask)\n",
    "    frameResult = cv2.morphologyEx(frameResult, cv2.MORPH_CLOSE, np.ones((7, 7), np.uint8), iterations=2)\n",
    "    frameResult = cv2.dilate(frameResult, np.ones((5, 5), np.uint8))\n",
    "    frameResult = cv2.dilate(frameResult, np.ones((5, 5), np.uint8))\n",
    "    frameResult = cv2.medianBlur(frameResult, 7)\n",
    "\n",
    "\n",
    "    frame = cv2.resize(frame, (0, 0), fx=1, fy=1)\n",
    "    frameHSV = cv2.resize(frameHSV, (0, 0), fx=0.4, fy=0.4)\n",
    "    mask = cv2.resize(mask, (0, 0), fx=0.4, fy=0.4)\n",
    "    frameResult = cv2.resize(frameResult, (0, 0), fx=1, fy=1)\n",
    "\n",
    "\n",
    "    result2 = frameResult.copy()\n",
    "    num_labels, labels, stats, centroids = cv2.connectedComponentsWithStats(cv2.cvtColor(result2, cv2.COLOR_BGR2GRAY))\n",
    "    objects_on_screen = num_labels > 1\n",
    "    if objects_on_screen:\n",
    "        result = []\n",
    "        for object_index in range(1, num_labels):\n",
    "            x, y, w, h, area = stats[object_index]\n",
    "            if area > 20:\n",
    "                result.append(stats[object_index])\n",
    "        return result\n",
    "    return []"
   ]
  },
  {
   "cell_type": "code",
   "execution_count": 17,
   "id": "1b250d87d344a8d",
   "metadata": {},
   "outputs": [],
   "source": [
    "def process_yellow(current_frame: np.ndarray, lower_range:np.ndarray = None, upper_range:np.ndarray = None) -> list:\n",
    "    \"\"\"Process single frame and return new frame with detected yellow objects.\"\"\"\n",
    "    \n",
    "    hsv_image = cv2.cvtColor(current_frame, cv2.COLOR_BGR2HSV)\n",
    "    \n",
    "    if lower_range is None:\n",
    "        lower_range = np.array([0, 90, 160])\n",
    "        \n",
    "    if upper_range is None:\n",
    "        upper_range = np.array([30, 255, 255])\n",
    "\n",
    "    binary_image = cv2.inRange(hsv_image, lower_range, upper_range)\n",
    "    median = cv2.medianBlur(binary_image, 5)\n",
    "    eroded = cv2.erode(median, np.ones((3, 3)))\n",
    "    dilated = cv2.dilate(eroded, np.ones((5, 5)))\n",
    "    dilated = cv2.erode(dilated, np.ones((5, 5)))\n",
    "\n",
    "    num_labels, labels, stats, centroids = cv2.connectedComponentsWithStats(dilated)\n",
    "    \n",
    "    for i in range(1, num_labels):\n",
    "        areas = stats[:, -1]  # Get the areas of all labels\n",
    "        top_labels = np.argsort(areas)[::-1][:6]  # Get the indices of the top 5 labels with the largest areas\n",
    "        result = []\n",
    "        for i in top_labels:\n",
    "            x, y, w, h, area = stats[i]\n",
    "            if 8 < area < 150:\n",
    "                result.append(stats[i])\n",
    "        return result\n",
    "    \n",
    "    return []\n"
   ]
  },
  {
   "cell_type": "code",
   "execution_count": 18,
   "id": "8f98d51e",
   "metadata": {},
   "outputs": [],
   "source": [
    "def process_video(file: str, lower_y = None, upper_y = None, lower_r = None, upper_r = None) -> None:\n",
    "    \"\"\"Process video file and display it with detected objects.\"\"\"\n",
    "    capture = cv2.VideoCapture(file)\n",
    "\n",
    "    while capture.isOpened():\n",
    "        has_next_frame, current_frame = capture.read()\n",
    "        if not has_next_frame:\n",
    "            break\n",
    "\n",
    "        yellow = process_yellow(current_frame, lower_y, upper_y)\n",
    "        red = process_red(current_frame, lower_r, upper_r)\n",
    "        \n",
    "        for rect in yellow:\n",
    "            x, y, w, h, area = rect\n",
    "            cv2.rectangle(current_frame, (x - 5, y - 5), (x + w + 5, y + h + 5), (0, 255, 0), 2)\n",
    "            cv2.putText(current_frame, f'{area}', (x, y), cv2.FONT_HERSHEY_SIMPLEX, 1, (0, 255, 0), 2)\n",
    "        for rect in red:\n",
    "            x, y, w, h, area = rect\n",
    "            cv2.rectangle(current_frame, (x - 5, y - 5), (x + w + 5, y + h + 5), (0, 0, 255), 2)\n",
    "            cv2.putText(current_frame, f'{area}', (x, y), cv2.FONT_HERSHEY_SIMPLEX, 1, (0, 0, 255), 2)\n",
    "            \n",
    "        cv2.imshow(\"Labeled\", current_frame)\n",
    "        if cv2.waitKey(5) & 0xFF == ord('q'):\n",
    "            break\n",
    "\n",
    "    capture.release()\n",
    "    cv2.destroyAllWindows()"
   ]
  },
  {
   "cell_type": "code",
   "execution_count": 21,
   "id": "6e3344f94c447bdf",
   "metadata": {},
   "outputs": [],
   "source": [
    "yellow_lower = np.array([0, 0, 230])\n",
    "yellow_upper = np.array([35, 255, 255])\n",
    "\n",
    "red_lower = np.array([139, 114, 151])\n",
    "red_upper = np.array([179, 197, 212])"
   ]
  },
  {
   "cell_type": "code",
   "execution_count": 22,
   "id": "43fcd52f6fb810a5",
   "metadata": {},
   "outputs": [],
   "source": [
    "process_video('video_2.mp4', yellow_lower, yellow_upper, red_lower, red_upper)"
   ]
  }
 ],
 "metadata": {
  "kernelspec": {
   "display_name": "Python 3",
   "language": "python",
   "name": "python3"
  },
  "language_info": {
   "codemirror_mode": {
    "name": "ipython",
    "version": 3
   },
   "file_extension": ".py",
   "mimetype": "text/x-python",
   "name": "python",
   "nbconvert_exporter": "python",
   "pygments_lexer": "ipython3",
   "version": "3.12.0"
  }
 },
 "nbformat": 4,
 "nbformat_minor": 5
}
