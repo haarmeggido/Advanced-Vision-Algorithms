{
 "cells": [
  {
   "cell_type": "code",
   "execution_count": null,
   "id": "initial_id",
   "metadata": {
    "collapsed": true
   },
   "outputs": [],
   "source": [
    "import cv2\n",
    "import matplotlib.pyplot as plt\n",
    "import numpy as np"
   ]
  },
  {
   "metadata": {},
   "cell_type": "code",
   "outputs": [],
   "execution_count": null,
   "source": [
    "%matplotlib inline\n",
    "plt.rcParams['figure.figsize'] = (10, 10)\n",
    "plt.rcParams['image.interpolation'] = 'nearest'"
   ],
   "id": "810c88de971a49c8"
  },
  {
   "metadata": {},
   "cell_type": "code",
   "outputs": [],
   "execution_count": null,
   "source": [
    "def process_frame(current_frame: np.ndarray, lower_range:np.ndarray = None, upper_range:np.ndarray = None) -> np.ndarray:\n",
    "    \"\"\"Process single frame and return new frame with detected objects.\"\"\"\n",
    "\n",
    "    height, width, _ = current_frame.shape\n",
    "    original_image: np.ndarray = current_frame.copy()\n",
    "    \n",
    "    hsv_image = cv2.cvtColor(original_image, cv2.COLOR_BGR2HSV)\n",
    "    \n",
    "    if lower_range is None:\n",
    "        lower_range = np.array([0, 90, 160])\n",
    "        \n",
    "    if upper_range is None:\n",
    "        upper_range = np.array([30, 255, 255])\n",
    "\n",
    "    binary_image = cv2.inRange(hsv_image, lower_range, upper_range)\n",
    "    median = cv2.medianBlur(binary_image, 5)\n",
    "    eroded = cv2.erode(median, np.ones((3, 3)))\n",
    "    dilated = cv2.dilate(eroded, np.ones((5, 5)))\n",
    "    dilated = cv2.erode(dilated, np.ones((5, 5)))\n",
    "    # blurred = cv2.GaussianBlur(median, (3, 3), 0)\n",
    "    # opened_image = cv2.morphologyEx(blurred, cv2.MORPH_OPEN, np.ones((5, 5), np.uint8))\n",
    "    \n",
    "    processed = dilated\n",
    "\n",
    "    # Add a black rectangle to the upper right quarter of the image opened_image\n",
    "    # opened_image[0: height // 2,\n",
    "    #              width // 2: width] = 0\n",
    "\n",
    "    # Find contours and add rectangles to the original image\n",
    "\n",
    "    num_labels, labels, stats, centroids = cv2.connectedComponentsWithStats(processed)\n",
    "    \n",
    "    labeled_image = original_image.copy()\n",
    "    for i in range(1, num_labels):\n",
    "        areas = stats[:, -1]  # Get the areas of all labels\n",
    "        top_labels = np.argsort(areas)[::-1][:6]  # Get the indices of the top 5 labels with the largest areas\n",
    "\n",
    "        for i in top_labels:\n",
    "            x, y, w, h, area = stats[i]\n",
    "            if 8 < area < 150:\n",
    "                cv2.rectangle(labeled_image, (x, y), (x + w, y + h), (0, 255, 0), 2)\n",
    "                cv2.putText(labeled_image, f'{area}', (x, y), cv2.FONT_HERSHEY_SIMPLEX, 1, (0, 255, 0), 2)\n",
    "\n",
    "    return labeled_image, original_image, binary_image, processed\n",
    "\n",
    "\n",
    "def process_video(file: str, lower = None, upper = None) -> None:\n",
    "    \"\"\"Process video file and display it with detected objects.\"\"\"\n",
    "    capture = cv2.VideoCapture(file)\n",
    "\n",
    "    while capture.isOpened():\n",
    "        has_next_frame, current_frame = capture.read()\n",
    "        if not has_next_frame:\n",
    "            break\n",
    "\n",
    "        labeled, original, binary, processed = process_frame(current_frame, lower, upper)\n",
    "        cv2.imshow('Labels', labeled)\n",
    "        cv2.imshow('Original', original)\n",
    "        cv2.imshow('Processed', processed)\n",
    "        cv2.imshow('Binary', binary)\n",
    "        if cv2.waitKey(5) & 0xFF == ord('q'):\n",
    "            break\n",
    "\n",
    "    capture.release()\n",
    "    cv2.destroyAllWindows()"
   ],
   "id": "1b250d87d344a8d"
  },
  {
   "metadata": {},
   "cell_type": "code",
   "outputs": [],
   "execution_count": null,
   "source": [
    "lower_range = np.array([0, 90, 160])\n",
    "upper_range = np.array([30, 255, 255])\n",
    "\n",
    "yellow_lower = np.array([0, 0, 230])\n",
    "yellow_upper = np.array([35, 255, 255])\n",
    "\n",
    "red_lower = np.array([175, 86, 0])\n",
    "red_upper = np.array([179, 255, 255])"
   ],
   "id": "6e3344f94c447bdf"
  },
  {
   "metadata": {},
   "cell_type": "code",
   "outputs": [],
   "execution_count": null,
   "source": "process_video('mats/video_2.mp4', yellow_lower, yellow_upper)",
   "id": "43fcd52f6fb810a5"
  }
 ],
 "metadata": {
  "kernelspec": {
   "display_name": "Python 3",
   "language": "python",
   "name": "python3"
  },
  "language_info": {
   "codemirror_mode": {
    "name": "ipython",
    "version": 2
   },
   "file_extension": ".py",
   "mimetype": "text/x-python",
   "name": "python",
   "nbconvert_exporter": "python",
   "pygments_lexer": "ipython2",
   "version": "2.7.6"
  }
 },
 "nbformat": 4,
 "nbformat_minor": 5
}
